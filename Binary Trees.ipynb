{
 "cells": [
  {
   "cell_type": "markdown",
   "metadata": {},
   "source": [
    "# Binary Trees\n",
    "\n",
    "This notebook shows you how to write binary trees in python."
   ]
  },
  {
   "cell_type": "markdown",
   "metadata": {},
   "source": [
    "Define our class:"
   ]
  },
  {
   "cell_type": "code",
   "execution_count": 150,
   "metadata": {},
   "outputs": [],
   "source": [
    "class Node:\n",
    "    def __init__(self, val, left=None, right=None):\n",
    "        self.val = val\n",
    "        self.left = left\n",
    "        self.right = right\n",
    "\n",
    "    def __repr__(self):\n",
    "        if self.left is None and self.right is None:\n",
    "            return f'Node({self.val})'\n",
    "        return (\n",
    "            f'Node(' +\n",
    "            f'\\n{self.val},\\n{repr(self.left)},\\n{repr(self.right)}'.replace(\n",
    "                '\\n', '\\n' + 4 * ' '\n",
    "            ) +\n",
    "            f'\\n)'\n",
    "        )"
   ]
  },
  {
   "cell_type": "markdown",
   "metadata": {},
   "source": [
    "Create a binary tree:"
   ]
  },
  {
   "cell_type": "code",
   "execution_count": 151,
   "metadata": {},
   "outputs": [],
   "source": [
    "binary_tree = Node(1, Node(2), Node(3, Node(1, Node(2))))"
   ]
  },
  {
   "cell_type": "markdown",
   "metadata": {},
   "source": [
    "See the binary tree representation:"
   ]
  },
  {
   "cell_type": "code",
   "execution_count": 152,
   "metadata": {},
   "outputs": [
    {
     "data": {
      "text/plain": [
       "Node(\n",
       "    1,\n",
       "    Node(2),\n",
       "    Node(\n",
       "        3,\n",
       "        Node(\n",
       "            1,\n",
       "            Node(2),\n",
       "            None\n",
       "        ),\n",
       "        None\n",
       "    )\n",
       ")"
      ]
     },
     "execution_count": 152,
     "metadata": {},
     "output_type": "execute_result"
    }
   ],
   "source": [
    "binary_tree"
   ]
  },
  {
   "cell_type": "markdown",
   "metadata": {},
   "source": [
    "### Get the maximum value in the binary tree"
   ]
  },
  {
   "cell_type": "code",
   "execution_count": 153,
   "metadata": {},
   "outputs": [],
   "source": [
    "def max_value(node):\n",
    "    if node.left is None and node.right is None:\n",
    "        return node.val\n",
    "    if node.left is None:\n",
    "        return max(node.val, max_value(node.right))\n",
    "    if node.right is None:\n",
    "        return max(node.val, max_value(node.left))\n",
    "    return max(node.val, max_value(node.left), max_value(node.right))"
   ]
  },
  {
   "cell_type": "code",
   "execution_count": 154,
   "metadata": {},
   "outputs": [
    {
     "data": {
      "text/plain": [
       "3"
      ]
     },
     "execution_count": 154,
     "metadata": {},
     "output_type": "execute_result"
    }
   ],
   "source": [
    "max_value(binary_tree)"
   ]
  }
 ],
 "metadata": {
  "kernelspec": {
   "display_name": "Python 3",
   "language": "python",
   "name": "python3"
  },
  "language_info": {
   "codemirror_mode": {
    "name": "ipython",
    "version": 3
   },
   "file_extension": ".py",
   "mimetype": "text/x-python",
   "name": "python",
   "nbconvert_exporter": "python",
   "pygments_lexer": "ipython3",
   "version": "3.6.3"
  }
 },
 "nbformat": 4,
 "nbformat_minor": 2
}
